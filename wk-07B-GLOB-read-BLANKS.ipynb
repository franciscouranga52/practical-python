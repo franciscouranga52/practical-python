{
 "cells": [
  {
   "cell_type": "markdown",
   "metadata": {
    "id": "GZacCx2Yzims"
   },
   "source": [
    "# Grabbing files\n",
    "\n",
    "When we scrape and download documents (or if we receive a cache of documents), we'll need to read and analyze them.\n",
    "\n",
    "We might want quantify elements in the unstructured data and transfer to a spreadsheet. There are different ways to do that, but first a document has to be **read**.\n",
    "\n",
    "\n",
    "- [Download the sample files](https://drive.google.com/file/d/1wPknfzabti49EKxv9zAFkso_g2HrniQp/view?usp=share_link) we will need and place in the same folder as your ```.ipynb``` file."
   ]
  },
  {
   "cell_type": "markdown",
   "metadata": {
    "id": "SUcjWF1C6smw"
   },
   "source": [
    "# ```glob```\n",
    "\n",
    "```glob``` is a UNIX-based library for collecting specific files into a list."
   ]
  },
  {
   "cell_type": "markdown",
   "metadata": {
    "id": "FXHzRAoy7RKU"
   },
   "source": [
    "## Using a path\n",
    "\n",
    "We need to store to a variable our path from our ```.ipynb``` file to folder that holds our files.\n"
   ]
  },
  {
   "cell_type": "code",
   "execution_count": 1,
   "metadata": {
    "id": "w7tpVnQ7zimy"
   },
   "outputs": [],
   "source": [
    "## import libraries\n",
    "import glob"
   ]
  },
  {
   "cell_type": "code",
   "execution_count": 7,
   "metadata": {
    "id": "0qpyzNeK7W7t"
   },
   "outputs": [
    {
     "data": {
      "text/plain": [
       "['demo-docs/fla_count_as_of_2020-08-19_time_11_31_00.csv']"
      ]
     },
     "execution_count": 7,
     "metadata": {},
     "output_type": "execute_result"
    }
   ],
   "source": [
    "## grab a single csv file\n",
    "glob.glob (\"demo-docs/fla_count_as_of_2020-08-19_time_11_31_00.csv\") \n",
    "# hay un elemento y un método glob (por eso glob.glob\n",
    "#devuelve una lista"
   ]
  },
  {
   "cell_type": "markdown",
   "metadata": {},
   "source": [
    "### The power of ```glob``` comes from its ability to gather any target files we want."
   ]
  },
  {
   "cell_type": "code",
   "execution_count": 10,
   "metadata": {
    "id": "enzXUX0yv30r"
   },
   "outputs": [
    {
     "data": {
      "text/plain": [
       "['demo-docs/fla_count_as_of_2020-08-19_time_11_46_00.csv',\n",
       " 'demo-docs/fla_count_as_of_2020-08-19_time_12_16_00.csv',\n",
       " 'demo-docs/fla_count_as_of_2020-08-19_time_11_31_00.csv',\n",
       " 'demo-docs/fla_count_as_of_2020-08-19_time_12_31_00.csv',\n",
       " 'demo-docs/fla_count_as_of_2020-08-19_time_12_01_00.csv']"
      ]
     },
     "execution_count": 10,
     "metadata": {},
     "output_type": "execute_result"
    }
   ],
   "source": [
    "## grab only the csv files\n",
    "glob.glob (\"demo-docs/*.csv\")"
   ]
  },
  {
   "cell_type": "code",
   "execution_count": 11,
   "metadata": {
    "id": "rHeM5DZ0v5fi"
   },
   "outputs": [
    {
     "data": {
      "text/plain": [
       "['demo-docs/adolph-coors-2015.pdf',\n",
       " 'demo-docs/adolph-coors-2014.pdf',\n",
       " 'demo-docs/adolph-coors-2013.pdf']"
      ]
     },
     "execution_count": 11,
     "metadata": {},
     "output_type": "execute_result"
    }
   ],
   "source": [
    "## grab all the pdf files\n",
    "## grab only the csv files\n",
    "glob.glob (\"demo-docs/*.pdf\")"
   ]
  },
  {
   "cell_type": "code",
   "execution_count": 13,
   "metadata": {},
   "outputs": [
    {
     "data": {
      "text/plain": [
       "['demo-docs/adolph-coors-2015.pdf',\n",
       " 'demo-docs/adolph-coors-2014.pdf',\n",
       " 'demo-docs/adolph-coors-2013.pdf']"
      ]
     },
     "execution_count": 13,
     "metadata": {},
     "output_type": "execute_result"
    }
   ],
   "source": [
    "## puedo hacer que venga cualquier aque diga adolph\n",
    "\n",
    "glob.glob (\"demo-docs/adolph*.pdf\")"
   ]
  },
  {
   "cell_type": "code",
   "execution_count": 14,
   "metadata": {
    "id": "Rxd0gr-76yy9"
   },
   "outputs": [
    {
     "data": {
      "text/plain": [
       "['demo-docs/fla_count_as_of_2020-08-19_time_11_46_00.csv',\n",
       " 'demo-docs/fla_count_as_of_2020-08-19_time_12_16_00.csv',\n",
       " 'demo-docs/adolph-coors-2015.pdf',\n",
       " 'demo-docs/adolph-coors-2014.pdf',\n",
       " 'demo-docs/fla_count_as_of_2020-08-19_time_11_31_00.csv',\n",
       " 'demo-docs/adolph-coors-2013.pdf',\n",
       " 'demo-docs/fla_count_as_of_2020-08-19_time_12_31_00.csv',\n",
       " 'demo-docs/read_sample2.txt',\n",
       " 'demo-docs/read_sample1.txt',\n",
       " 'demo-docs/fla_count_as_of_2020-08-19_time_12_01_00.csv']"
      ]
     },
     "execution_count": 14,
     "metadata": {},
     "output_type": "execute_result"
    }
   ],
   "source": [
    "## grab all the files! \n",
    "## grab only the csv files\n",
    "glob.glob (\"demo-docs/*.*\")"
   ]
  },
  {
   "cell_type": "code",
   "execution_count": 15,
   "metadata": {
    "id": "OTU7NuBc6959"
   },
   "outputs": [
    {
     "data": {
      "text/plain": [
       "['demo-docs/read_sample2.txt', 'demo-docs/read_sample1.txt']"
      ]
     },
     "execution_count": 15,
     "metadata": {},
     "output_type": "execute_result"
    }
   ],
   "source": [
    "## grab txt files only\n",
    "glob.glob (\"demo-docs/*.txt\")"
   ]
  },
  {
   "cell_type": "markdown",
   "metadata": {
    "id": "lQcVWJMKAY_1"
   },
   "source": [
    "# Reading files\n"
   ]
  },
  {
   "cell_type": "code",
   "execution_count": 20,
   "metadata": {
    "id": "Q4f89xC1ATiq"
   },
   "outputs": [
    {
     "name": "stdout",
     "output_type": "stream",
     "text": [
      "<class '_io.TextIOWrapper'>\n"
     ]
    }
   ],
   "source": [
    "## create a text wrapper object by \"reading\" the 'read_sample1.txt' file\n",
    "## remember we are already in the test folder\n",
    "with open (\"demo-docs/read_sample2.txt\", \"r\") as my_text: #la \"r\" es de read\n",
    "    print(type(my_text))"
   ]
  },
  {
   "cell_type": "markdown",
   "metadata": {
    "id": "CcVEX9mbAf-P"
   },
   "source": [
    "#### We can interpret this ```<class '_io.TextIOWrapper'>``` to read the actual contents using the following:\n",
    "\n",
    "- ```.read()``` reads the entire document.\n",
    "- ```.read(some_integer)``` reads \"some_integer\" number of characters.\n",
    "- ```.readline()``` reads the first line. If you pass an argument, it will read that many characters in the first line.\n",
    "- ```.readlines()``` reads each line as a separate item and places into a list.\n",
    "\n"
   ]
  },
  {
   "cell_type": "code",
   "execution_count": 23,
   "metadata": {
    "id": "McfQkCqtAghJ"
   },
   "outputs": [],
   "source": [
    "## create a variable that holds our file name\n",
    "file_name = \"demo-docs/read_sample2.txt\""
   ]
  },
  {
   "cell_type": "code",
   "execution_count": 25,
   "metadata": {
    "id": "_65rRBLZAmCX"
   },
   "outputs": [
    {
     "name": "stdout",
     "output_type": "stream",
     "text": [
      "New Zealand to Reduce Covid Self-Isolation Period to Seven Days\n",
      "ByTracy Withers\n",
      "\n",
      "New Zealand will reduce the isolation period for Covid-19 cases and their household contacts to seven days in order to get more people back to work.\n",
      "\n",
      "The period will reduce from 10 days effective at 11:59 p.m. on Friday March 11 in Wellington, Minister for Covid Response Chris Hipkins said in a statement.\n",
      "\n"
     ]
    }
   ],
   "source": [
    "## read and print entire file\n",
    "with open (file_name, \"r\") as my_text: #with open sirve para evitar que abra un documento y lo deje abierto (lo que pasa solo con open)\n",
    "    print (my_text.read())"
   ]
  },
  {
   "cell_type": "code",
   "execution_count": 26,
   "metadata": {
    "id": "dC1xQ7ysApQ9"
   },
   "outputs": [
    {
     "name": "stdout",
     "output_type": "stream",
     "text": [
      "New Zealand to Reduce Covid Self-Isolation Period \n"
     ]
    }
   ],
   "source": [
    "## read and print 50 characters\n",
    "with open (file_name, \"r\") as my_text: #with open sirve para evitar que abra un documento y lo deje abierto (lo que pasa solo con open)\n",
    "    print (my_text.read(50))"
   ]
  },
  {
   "cell_type": "markdown",
   "metadata": {
    "id": "mVyI5xKFA3Cc"
   },
   "source": [
    "## Saving file to memory\n",
    "So far, we haven't saved the text. \n",
    "The content is only available inside ```with open```.\n",
    "If we try to read the lines, outside the ```with open```, we'll get a ```ValueError: I/O operation on closed file.```"
   ]
  },
  {
   "cell_type": "code",
   "execution_count": 28,
   "metadata": {
    "id": "NCoAJjUoAsMN"
   },
   "outputs": [
    {
     "ename": "ValueError",
     "evalue": "I/O operation on closed file.",
     "output_type": "error",
     "traceback": [
      "\u001b[0;31m---------------------------------------------------------------------------\u001b[0m",
      "\u001b[0;31mValueError\u001b[0m                                Traceback (most recent call last)",
      "\u001b[0;32m<ipython-input-28-be6d6764e1b0>\u001b[0m in \u001b[0;36m<module>\u001b[0;34m\u001b[0m\n\u001b[1;32m      1\u001b[0m \u001b[0;31m## print my_text(60)\u001b[0m\u001b[0;34m\u001b[0m\u001b[0;34m\u001b[0m\u001b[0;34m\u001b[0m\u001b[0m\n\u001b[1;32m      2\u001b[0m \u001b[0;31m## this will break!\u001b[0m\u001b[0;34m\u001b[0m\u001b[0;34m\u001b[0m\u001b[0;34m\u001b[0m\u001b[0m\n\u001b[0;32m----> 3\u001b[0;31m \u001b[0mprint\u001b[0m \u001b[0;34m(\u001b[0m\u001b[0mmy_text\u001b[0m\u001b[0;34m.\u001b[0m\u001b[0mread\u001b[0m\u001b[0;34m(\u001b[0m\u001b[0;36m60\u001b[0m\u001b[0;34m)\u001b[0m\u001b[0;34m)\u001b[0m\u001b[0;34m\u001b[0m\u001b[0;34m\u001b[0m\u001b[0m\n\u001b[0m\u001b[1;32m      4\u001b[0m \u001b[0;31m#no existe fuera de open\u001b[0m\u001b[0;34m\u001b[0m\u001b[0;34m\u001b[0m\u001b[0;34m\u001b[0m\u001b[0m\n",
      "\u001b[0;31mValueError\u001b[0m: I/O operation on closed file."
     ]
    }
   ],
   "source": [
    "## print my_text(60)\n",
    "## this will break!\n",
    "print (my_text.read(60))\n",
    "#no existe fuera de open"
   ]
  },
  {
   "cell_type": "markdown",
   "metadata": {
    "id": "zTMKlaQaBDZW"
   },
   "source": [
    "## We fix that my saving the myfile object inside a variable"
   ]
  },
  {
   "cell_type": "code",
   "execution_count": 31,
   "metadata": {
    "id": "H6CxTe87A6I2"
   },
   "outputs": [],
   "source": [
    "## read hold the first 25 characters in a variable\n",
    "with open (file_name, \"r\") as my_text: #with open sirve para evitar que abra un documento y lo deje abierto (lo que pasa solo con open)\n",
    "    text_25 =  my_text.read(25)"
   ]
  },
  {
   "cell_type": "code",
   "execution_count": 32,
   "metadata": {
    "id": "T567GoMWBAMz"
   },
   "outputs": [
    {
     "data": {
      "text/plain": [
       "'New Zealand to Reduce Cov'"
      ]
     },
     "execution_count": 32,
     "metadata": {},
     "output_type": "execute_result"
    }
   ],
   "source": [
    "## call the variable above\n",
    "text_25"
   ]
  },
  {
   "cell_type": "code",
   "execution_count": 41,
   "metadata": {
    "id": "VZAmEMxIBRl6"
   },
   "outputs": [],
   "source": [
    "## read the first line into a variable\n",
    "with open (file_name, \"r\") as my_text: #otras funciones son \"w\" que escribe o \"a\" que agrega (sin sobreescribir)\n",
    "    first_line = my_text.readlines(1)"
   ]
  },
  {
   "cell_type": "code",
   "execution_count": 42,
   "metadata": {
    "id": "C4ET5Ty9BUG-"
   },
   "outputs": [
    {
     "data": {
      "text/plain": [
       "['New Zealand to Reduce Covid Self-Isolation Period to Seven Days\\n']"
      ]
     },
     "execution_count": 42,
     "metadata": {},
     "output_type": "execute_result"
    }
   ],
   "source": [
    "## call the variable above\n",
    "first_line"
   ]
  },
  {
   "cell_type": "code",
   "execution_count": 39,
   "metadata": {
    "id": "goQbUttdBWQL"
   },
   "outputs": [],
   "source": [
    "## read the whole thing into a variable\n",
    "with open (file_name, \"r\") as my_text: #otras funciones son \"w\" que escribe o \"a\" que agrega (sin sobreescribir)\n",
    "    all_text = my_text.read()"
   ]
  },
  {
   "cell_type": "code",
   "execution_count": 40,
   "metadata": {
    "id": "t6c-8K4MBYXj"
   },
   "outputs": [
    {
     "data": {
      "text/plain": [
       "'New Zealand to Reduce Covid Self-Isolation Period to Seven Days\\nByTracy Withers\\n\\nNew Zealand will reduce the isolation period for Covid-19 cases and their household contacts to seven days in order to get more people back to work.\\n\\nThe period will reduce from 10 days effective at 11:59 p.m. on Friday March 11 in Wellington, Minister for Covid Response Chris Hipkins said in a statement.\\n'"
      ]
     },
     "execution_count": 40,
     "metadata": {},
     "output_type": "execute_result"
    }
   ],
   "source": [
    "## call the variable above\n",
    "all_text"
   ]
  },
  {
   "cell_type": "markdown",
   "metadata": {
    "id": "6vvJccMgBhcx"
   },
   "source": [
    "## It's more useful to save the text object inside a list. \n",
    "Remember, ```readlines()``` actually shows each line as part of a list."
   ]
  },
  {
   "cell_type": "code",
   "execution_count": 43,
   "metadata": {
    "id": "6Hpf-aVxBbeX"
   },
   "outputs": [],
   "source": [
    "## store entire text file in list\n",
    "with open (file_name, \"r\") as my_text: #otras funciones son \"w\" que escribe o \"a\" que agrega (sin sobreescribir)\n",
    "    all_text_list = my_text.readlines()"
   ]
  },
  {
   "cell_type": "code",
   "execution_count": 44,
   "metadata": {},
   "outputs": [
    {
     "data": {
      "text/plain": [
       "['New Zealand to Reduce Covid Self-Isolation Period to Seven Days\\n',\n",
       " 'ByTracy Withers\\n',\n",
       " '\\n',\n",
       " 'New Zealand will reduce the isolation period for Covid-19 cases and their household contacts to seven days in order to get more people back to work.\\n',\n",
       " '\\n',\n",
       " 'The period will reduce from 10 days effective at 11:59 p.m. on Friday March 11 in Wellington, Minister for Covid Response Chris Hipkins said in a statement.\\n']"
      ]
     },
     "execution_count": 44,
     "metadata": {},
     "output_type": "execute_result"
    }
   ],
   "source": [
    "## call list\n",
    "all_text_list"
   ]
  },
  {
   "cell_type": "markdown",
   "metadata": {
    "id": "6bPl-BOFBocY"
   },
   "source": [
    "\n",
    "## We can then slice our list"
   ]
  },
  {
   "cell_type": "code",
   "execution_count": 46,
   "metadata": {
    "id": "thQFzZhfBery"
   },
   "outputs": [
    {
     "data": {
      "text/plain": [
       "'\\n'"
      ]
     },
     "execution_count": 46,
     "metadata": {},
     "output_type": "execute_result"
    }
   ],
   "source": [
    "## Show list item 3\n",
    "all_text_list[2]"
   ]
  },
  {
   "cell_type": "code",
   "execution_count": 47,
   "metadata": {
    "id": "cU6fwVoZBrOV"
   },
   "outputs": [],
   "source": [
    "## create a variable to hold the byline\n",
    "byline = all_text_list[1]"
   ]
  },
  {
   "cell_type": "code",
   "execution_count": 48,
   "metadata": {},
   "outputs": [
    {
     "data": {
      "text/plain": [
       "'ByTracy Withers\\n'"
      ]
     },
     "execution_count": 48,
     "metadata": {},
     "output_type": "execute_result"
    }
   ],
   "source": [
    "byline"
   ]
  },
  {
   "cell_type": "code",
   "execution_count": null,
   "metadata": {},
   "outputs": [],
   "source": []
  }
 ],
 "metadata": {
  "colab": {
   "collapsed_sections": [],
   "name": "week-8B-file_folder_GLOB_READ_BLANK.ipynb",
   "provenance": [
    {
     "file_id": "1gCGeYOc9hI-v5dNhehTH_FE0g5UNiLW6",
     "timestamp": 1646785019864
    },
    {
     "file_id": "1kqd4HicmAldE-DZBOgLQjchxim-GVwYN",
     "timestamp": 1628626905369
    },
    {
     "file_id": "1C3xH08V3tJClZ_nWy3bNSUqRKcdYSC-f",
     "timestamp": 1620827792051
    }
   ]
  },
  "kernelspec": {
   "display_name": "Python 3",
   "language": "python",
   "name": "python3"
  },
  "language_info": {
   "codemirror_mode": {
    "name": "ipython",
    "version": 3
   },
   "file_extension": ".py",
   "mimetype": "text/x-python",
   "name": "python",
   "nbconvert_exporter": "python",
   "pygments_lexer": "ipython3",
   "version": "3.8.8"
  }
 },
 "nbformat": 4,
 "nbformat_minor": 1
}
