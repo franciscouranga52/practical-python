{
 "cells": [
  {
   "cell_type": "markdown",
   "metadata": {},
   "source": [
    "## Time for ```Icecream```"
   ]
  },
  {
   "cell_type": "code",
   "execution_count": 1,
   "metadata": {
    "executionInfo": {
     "elapsed": 15,
     "status": "ok",
     "timestamp": 1646748365196,
     "user": {
      "displayName": "Sandeep Junnarkar",
      "photoUrl": "https://lh3.googleusercontent.com/a/default-user=s64",
      "userId": "15658885848901522782"
     },
     "user_tz": 300
    },
    "id": "Z2istlt6H_5f"
   },
   "outputs": [],
   "source": [
    "## create two variables with values\n",
    "rent, student_loan, income = 1000, 500, 1800\n"
   ]
  },
  {
   "cell_type": "code",
   "execution_count": 3,
   "metadata": {
    "executionInfo": {
     "elapsed": 460,
     "status": "ok",
     "timestamp": 1646748388104,
     "user": {
      "displayName": "Sandeep Junnarkar",
      "photoUrl": "https://lh3.googleusercontent.com/a/default-user=s64",
      "userId": "15658885848901522782"
     },
     "user_tz": 300
    },
    "id": "Rjd0UsVxH_5h"
   },
   "outputs": [],
   "source": [
    "### total them into a variable called total_expenses\n",
    "total_expenses = rent + student_loan "
   ]
  },
  {
   "cell_type": "code",
   "execution_count": 5,
   "metadata": {
    "colab": {
     "base_uri": "https://localhost:8080/"
    },
    "executionInfo": {
     "elapsed": 186,
     "status": "ok",
     "timestamp": 1646748432441,
     "user": {
      "displayName": "Sandeep Junnarkar",
      "photoUrl": "https://lh3.googleusercontent.com/a/default-user=s64",
      "userId": "15658885848901522782"
     },
     "user_tz": 300
    },
    "id": "m6bZ0BzkH_5h",
    "outputId": "2f7bd7db-913c-4bda-f148-1385842b303e"
   },
   "outputs": [
    {
     "name": "stdout",
     "output_type": "stream",
     "text": [
      "1500\n"
     ]
    }
   ],
   "source": [
    "## print total\n",
    "print (total_expenses)"
   ]
  },
  {
   "cell_type": "code",
   "execution_count": 9,
   "metadata": {
    "colab": {
     "base_uri": "https://localhost:8080/"
    },
    "executionInfo": {
     "elapsed": 229,
     "status": "ok",
     "timestamp": 1646748520493,
     "user": {
      "displayName": "Sandeep Junnarkar",
      "photoUrl": "https://lh3.googleusercontent.com/a/default-user=s64",
      "userId": "15658885848901522782"
     },
     "user_tz": 300
    },
    "id": "zJ_L6fBp23nr",
    "outputId": "919af40b-9ad7-4801-f5ef-4ff2e62c9665",
    "scrolled": true
   },
   "outputs": [
    {
     "name": "stdout",
     "output_type": "stream",
     "text": [
      "Total: 1500\n",
      "Rent: 1000\n",
      "500\n",
      "1800\n"
     ]
    }
   ],
   "source": [
    "## with flags and f-strings\n",
    "print(f\"Total: {total_expenses}\")\n",
    "print(f\"Rent: {rent}\")\n",
    "print(student_loan)\n",
    "print(income)"
   ]
  },
  {
   "cell_type": "code",
   "execution_count": 19,
   "metadata": {},
   "outputs": [],
   "source": [
    "cost = [total_expenses, rent, student_loan, income]"
   ]
  },
  {
   "cell_type": "code",
   "execution_count": null,
   "metadata": {
    "id": "XtOy4WYJIh9K"
   },
   "outputs": [],
   "source": [
    "## let's pip install icecream"
   ]
  },
  {
   "cell_type": "code",
   "execution_count": 12,
   "metadata": {
    "colab": {
     "base_uri": "https://localhost:8080/"
    },
    "executionInfo": {
     "elapsed": 4081,
     "status": "ok",
     "timestamp": 1646748756810,
     "user": {
      "displayName": "Sandeep Junnarkar",
      "photoUrl": "https://lh3.googleusercontent.com/a/default-user=s64",
      "userId": "15658885848901522782"
     },
     "user_tz": 300
    },
    "id": "Xfi3SI6TH_5i",
    "outputId": "a8c99b92-921c-4112-8ac4-07190ca1401e"
   },
   "outputs": [
    {
     "name": "stdout",
     "output_type": "stream",
     "text": [
      "Requirement already satisfied: icecream in /Applications/anaconda3/lib/python3.8/site-packages (2.1.3)\n",
      "Requirement already satisfied: executing>=0.3.1 in /Applications/anaconda3/lib/python3.8/site-packages (from icecream) (2.0.0)\n",
      "Requirement already satisfied: colorama>=0.3.9 in /Applications/anaconda3/lib/python3.8/site-packages (from icecream) (0.4.4)\n",
      "Requirement already satisfied: asttokens>=2.0.1 in /Applications/anaconda3/lib/python3.8/site-packages (from icecream) (2.4.0)\n",
      "Requirement already satisfied: pygments>=2.2.0 in /Applications/anaconda3/lib/python3.8/site-packages (from icecream) (2.8.1)\n",
      "Requirement already satisfied: six>=1.12.0 in /Applications/anaconda3/lib/python3.8/site-packages (from asttokens>=2.0.1->icecream) (1.15.0)\n",
      "Note: you may need to restart the kernel to use updated packages.\n"
     ]
    }
   ],
   "source": [
    "pip install icecream"
   ]
  },
  {
   "cell_type": "code",
   "execution_count": 16,
   "metadata": {
    "executionInfo": {
     "elapsed": 181,
     "status": "ok",
     "timestamp": 1646748802712,
     "user": {
      "displayName": "Sandeep Junnarkar",
      "photoUrl": "https://lh3.googleusercontent.com/a/default-user=s64",
      "userId": "15658885848901522782"
     },
     "user_tz": 300
    },
    "id": "k-IY-vkfH_5j"
   },
   "outputs": [],
   "source": [
    "## import library\n",
    "from icecream import ic"
   ]
  },
  {
   "cell_type": "code",
   "execution_count": 18,
   "metadata": {
    "colab": {
     "base_uri": "https://localhost:8080/"
    },
    "executionInfo": {
     "elapsed": 194,
     "status": "ok",
     "timestamp": 1646748857334,
     "user": {
      "displayName": "Sandeep Junnarkar",
      "photoUrl": "https://lh3.googleusercontent.com/a/default-user=s64",
      "userId": "15658885848901522782"
     },
     "user_tz": 300
    },
    "id": "BCB019sUH_5j",
    "outputId": "14518f91-5251-49c6-b137-73eb6827d786"
   },
   "outputs": [
    {
     "name": "stderr",
     "output_type": "stream",
     "text": [
      "ic| total_expenses: 1500\n"
     ]
    },
    {
     "data": {
      "text/plain": [
       "1500"
      ]
     },
     "execution_count": 18,
     "metadata": {},
     "output_type": "execute_result"
    }
   ],
   "source": [
    "## ic total expenses\n",
    "ic (total_expenses)"
   ]
  },
  {
   "cell_type": "code",
   "execution_count": 25,
   "metadata": {
    "executionInfo": {
     "elapsed": 360,
     "status": "ok",
     "timestamp": 1646748905968,
     "user": {
      "displayName": "Sandeep Junnarkar",
      "photoUrl": "https://lh3.googleusercontent.com/a/default-user=s64",
      "userId": "15658885848901522782"
     },
     "user_tz": 300
    },
    "id": "G265xQNAH_5k"
   },
   "outputs": [],
   "source": [
    "## run this dict\n",
    "mydict = {\n",
    "    \"animal\": \"dog\",\n",
    "    \"building\": \"World Trade Center\",\n",
    "    \"plant\": \"Redwood\"\n",
    "}"
   ]
  },
  {
   "cell_type": "code",
   "execution_count": 27,
   "metadata": {
    "colab": {
     "base_uri": "https://localhost:8080/"
    },
    "executionInfo": {
     "elapsed": 355,
     "status": "ok",
     "timestamp": 1646748919771,
     "user": {
      "displayName": "Sandeep Junnarkar",
      "photoUrl": "https://lh3.googleusercontent.com/a/default-user=s64",
      "userId": "15658885848901522782"
     },
     "user_tz": 300
    },
    "id": "4k6w2dxSH_5k",
    "outputId": "8e438c76-81ff-45af-953f-3d9ca986262a"
   },
   "outputs": [
    {
     "name": "stderr",
     "output_type": "stream",
     "text": [
      "ic| mydict: {'animal': 'dog', 'building': 'World Trade Center', 'plant': 'Redwood'}\n"
     ]
    },
    {
     "data": {
      "text/plain": [
       "{'animal': 'dog', 'building': 'World Trade Center', 'plant': 'Redwood'}"
      ]
     },
     "execution_count": 27,
     "metadata": {},
     "output_type": "execute_result"
    }
   ],
   "source": [
    "## ic get animal\n",
    "ic(mydict)"
   ]
  },
  {
   "cell_type": "code",
   "execution_count": 28,
   "metadata": {
    "colab": {
     "base_uri": "https://localhost:8080/",
     "height": 52
    },
    "executionInfo": {
     "elapsed": 611,
     "status": "ok",
     "timestamp": 1646749080847,
     "user": {
      "displayName": "Sandeep Junnarkar",
      "photoUrl": "https://lh3.googleusercontent.com/a/default-user=s64",
      "userId": "15658885848901522782"
     },
     "user_tz": 300
    },
    "id": "QK5nq1h24tPA",
    "outputId": "299fb0e9-41c3-43d2-ca50-51b1efe90290"
   },
   "outputs": [
    {
     "name": "stderr",
     "output_type": "stream",
     "text": [
      "ic| mydict.get (\"animal\"): 'dog'\n"
     ]
    },
    {
     "data": {
      "text/plain": [
       "'dog'"
      ]
     },
     "execution_count": 28,
     "metadata": {},
     "output_type": "execute_result"
    }
   ],
   "source": [
    "## GET THE BUILDING KEY\n",
    "ic(mydict.get (\"animal\"))"
   ]
  },
  {
   "cell_type": "code",
   "execution_count": null,
   "metadata": {
    "executionInfo": {
     "elapsed": 199,
     "status": "ok",
     "timestamp": 1646749106672,
     "user": {
      "displayName": "Sandeep Junnarkar",
      "photoUrl": "https://lh3.googleusercontent.com/a/default-user=s64",
      "userId": "15658885848901522782"
     },
     "user_tz": 300
    },
    "id": "jz8Pw4beH_5l"
   },
   "outputs": [],
   "source": [
    "## run this expanded dict\n",
    "mydict2 = [{\n",
    "    \"animal\": \"dog\",\n",
    "    \"building\": \"World Trade Center\",\n",
    "    \"plant\": \"Redwood\"\n",
    "},\n",
    "{\n",
    "    \"animal\": \"cat\",\n",
    "    \"building\": \"Empire State Building\",\n",
    "    \"plant\": \"Rose\"\n",
    "},\n",
    "{\n",
    "    \"animal\": \"frog\",\n",
    "    \"building\": \"Bloomberg\",\n",
    "    \"plant\": \"Tulip\"\n",
    "}]"
   ]
  },
  {
   "cell_type": "code",
   "execution_count": null,
   "metadata": {
    "colab": {
     "base_uri": "https://localhost:8080/"
    },
    "executionInfo": {
     "elapsed": 185,
     "status": "ok",
     "timestamp": 1646749144398,
     "user": {
      "displayName": "Sandeep Junnarkar",
      "photoUrl": "https://lh3.googleusercontent.com/a/default-user=s64",
      "userId": "15658885848901522782"
     },
     "user_tz": 300
    },
    "id": "YFMH16Q_H_5l",
    "outputId": "cffec2fd-68ae-417b-c9dc-6d923c3491b3"
   },
   "outputs": [],
   "source": [
    "## ic the second value in my updated dict\n"
   ]
  },
  {
   "cell_type": "code",
   "execution_count": null,
   "metadata": {
    "id": "wTwupv_uH_5n"
   },
   "outputs": [],
   "source": []
  }
 ],
 "metadata": {
  "colab": {
   "collapsed_sections": [],
   "name": "week-3A-icecream-DEMO.ipynb",
   "provenance": [
    {
     "file_id": "1CxNv5mXKIZKgXSfWH5VAoFASQg8n0N89",
     "timestamp": 1643124690395
    },
    {
     "file_id": "1oYF8EBmeWbBdVevtOYZMk1eBHoEcdoa_",
     "timestamp": 1637764977188
    },
    {
     "file_id": "1ZX0DZwDwua0itvdqWhr3oKvy74is9AuL",
     "timestamp": 1625060465927
    }
   ]
  },
  "kernelspec": {
   "display_name": "Python 3",
   "language": "python",
   "name": "python3"
  },
  "language_info": {
   "codemirror_mode": {
    "name": "ipython",
    "version": 3
   },
   "file_extension": ".py",
   "mimetype": "text/x-python",
   "name": "python",
   "nbconvert_exporter": "python",
   "pygments_lexer": "ipython3",
   "version": "3.8.8"
  }
 },
 "nbformat": 4,
 "nbformat_minor": 1
}
