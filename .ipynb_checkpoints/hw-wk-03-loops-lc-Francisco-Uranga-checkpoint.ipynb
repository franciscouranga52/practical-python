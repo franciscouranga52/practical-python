{
 "cells": [
  {
   "cell_type": "markdown",
   "metadata": {
    "id": "Dz4lidEcC-wu"
   },
   "source": [
    "# Homework for Week 3\n",
    "\n",
    "The goal for this homework is to see the relevant journalistic uses for what we learned in class in week 2.\n",
    "\n",
    "1. Using the power of automation for iterate through tedious, but important tasks.\n",
    "2. Tapping Python to iterate through calculations. In a few weeks, you'll be doing this on millions of rows.\n",
    "3. Processing data we have scraped into dataframes and/or csv files for analysis."
   ]
  },
  {
   "cell_type": "markdown",
   "metadata": {
    "id": "EEXSVGi2C-w4"
   },
   "source": [
    "# 1.  Combine different data points together \n",
    "\n",
    "#### You scrape some URLs and place them in a list called myURLS (provided below):\n"
   ]
  },
  {
   "cell_type": "code",
   "execution_count": 1,
   "metadata": {
    "id": "mQwOrDIWC-w4"
   },
   "outputs": [],
   "source": [
    "## run this cell to activate the list\n",
    "myURLS = [\n",
    "    'great-unique-data-1.html',\n",
    "    'great-unique-data-2.html',\n",
    "    'great-unique-data-3.html',\n",
    "    'great-unique-data-4.html',\n",
    "    'great-unique-data-5.html',\n",
    "    'great-unique-data-6.html',\n",
    "    'great-unique-data-7.html',\n",
    "    'great-unique-data-8.html',\n",
    "    'great-unique-data-9.html',\n",
    "    'great-unique-data-10.html',\n",
    "    'great-unique-data-11.html',\n",
    "    'great-unique-data-12.html',\n",
    "    'great-unique-data-13.html',\n",
    "    'great-unique-data-14.html',\n",
    "    'great-unique-data-15.html'\n",
    "]\n"
   ]
  },
  {
   "cell_type": "code",
   "execution_count": 2,
   "metadata": {
    "colab": {
     "base_uri": "https://localhost:8080/"
    },
    "id": "XGrsmmioC-w4",
    "outputId": "daf42c56-696e-45c5-daec-967ea4801db2"
   },
   "outputs": [
    {
     "data": {
      "text/plain": [
       "['great-unique-data-1.html',\n",
       " 'great-unique-data-2.html',\n",
       " 'great-unique-data-3.html',\n",
       " 'great-unique-data-4.html',\n",
       " 'great-unique-data-5.html',\n",
       " 'great-unique-data-6.html',\n",
       " 'great-unique-data-7.html',\n",
       " 'great-unique-data-8.html',\n",
       " 'great-unique-data-9.html',\n",
       " 'great-unique-data-10.html',\n",
       " 'great-unique-data-11.html',\n",
       " 'great-unique-data-12.html',\n",
       " 'great-unique-data-13.html',\n",
       " 'great-unique-data-14.html',\n",
       " 'great-unique-data-15.html']"
      ]
     },
     "execution_count": 2,
     "metadata": {},
     "output_type": "execute_result"
    }
   ],
   "source": [
    "## CALL myURLS to check it out\n",
    "myURLS"
   ]
  },
  {
   "cell_type": "markdown",
   "metadata": {
    "id": "_W4WZ9-_C-w5"
   },
   "source": [
    "### * You realize that these URLs are missing the base of \"http://www.importantsite.com/\"\n",
    "### * Use a ```for loop``` to join the base URL to every partial URL in your list.\n",
    "### * Print each FULL URL\n",
    "It should look like: ```\"http://www.importantsite.com/great-unique-data-14.html``` but with unique numbers"
   ]
  },
  {
   "cell_type": "code",
   "execution_count": 3,
   "metadata": {
    "colab": {
     "base_uri": "https://localhost:8080/"
    },
    "id": "hFqX3JypC-w5",
    "outputId": "7322e6a3-c720-455b-e9fe-965e185f51bf"
   },
   "outputs": [
    {
     "name": "stdout",
     "output_type": "stream",
     "text": [
      "http://www.importantsite.com/great-unique-data-1.html\n",
      "http://www.importantsite.com/great-unique-data-2.html\n",
      "http://www.importantsite.com/great-unique-data-3.html\n",
      "http://www.importantsite.com/great-unique-data-4.html\n",
      "http://www.importantsite.com/great-unique-data-5.html\n",
      "http://www.importantsite.com/great-unique-data-6.html\n",
      "http://www.importantsite.com/great-unique-data-7.html\n",
      "http://www.importantsite.com/great-unique-data-8.html\n",
      "http://www.importantsite.com/great-unique-data-9.html\n",
      "http://www.importantsite.com/great-unique-data-10.html\n",
      "http://www.importantsite.com/great-unique-data-11.html\n",
      "http://www.importantsite.com/great-unique-data-12.html\n",
      "http://www.importantsite.com/great-unique-data-13.html\n",
      "http://www.importantsite.com/great-unique-data-14.html\n",
      "http://www.importantsite.com/great-unique-data-15.html\n"
     ]
    }
   ],
   "source": [
    "## PRINT ONLY build here:\n",
    "for url in myURLS:\n",
    "    print(f\"http://www.importantsite.com/{url}\")\n",
    "    "
   ]
  },
  {
   "cell_type": "code",
   "execution_count": 4,
   "metadata": {
    "colab": {
     "base_uri": "https://localhost:8080/"
    },
    "id": "g-DNZj4OC-w5",
    "outputId": "d6a7b497-56fb-47bd-aed1-4f9cd19ae2a2"
   },
   "outputs": [
    {
     "data": {
      "text/plain": [
       "['great-unique-data-1.html',\n",
       " 'great-unique-data-2.html',\n",
       " 'great-unique-data-3.html',\n",
       " 'great-unique-data-4.html',\n",
       " 'great-unique-data-5.html',\n",
       " 'great-unique-data-6.html',\n",
       " 'great-unique-data-7.html',\n",
       " 'great-unique-data-8.html',\n",
       " 'great-unique-data-9.html',\n",
       " 'great-unique-data-10.html',\n",
       " 'great-unique-data-11.html',\n",
       " 'great-unique-data-12.html',\n",
       " 'great-unique-data-13.html',\n",
       " 'great-unique-data-14.html',\n",
       " 'great-unique-data-15.html']"
      ]
     },
     "execution_count": 4,
     "metadata": {},
     "output_type": "execute_result"
    }
   ],
   "source": [
    "## call myURLS.\n",
    "## do they have the full url? No\n",
    "myURLS"
   ]
  },
  {
   "cell_type": "markdown",
   "metadata": {
    "id": "fM6-d1hXC-w5"
   },
   "source": [
    "## 2. Update myURLS and store full URLS in a new list\n",
    "\n",
    "#### Instead of just printing the joined URLs, create a new list called ```full_URLS``` that holds the full URLs."
   ]
  },
  {
   "cell_type": "code",
   "execution_count": 5,
   "metadata": {
    "colab": {
     "base_uri": "https://localhost:8080/"
    },
    "id": "vggh0aYAC-w5",
    "outputId": "7e1f46d1-0b1c-4784-c838-798bea161370"
   },
   "outputs": [
    {
     "data": {
      "text/plain": [
       "['http://www.importantsite.com/great-unique-data-1.html',\n",
       " 'http://www.importantsite.com/great-unique-data-2.html',\n",
       " 'http://www.importantsite.com/great-unique-data-3.html',\n",
       " 'http://www.importantsite.com/great-unique-data-4.html',\n",
       " 'http://www.importantsite.com/great-unique-data-5.html',\n",
       " 'http://www.importantsite.com/great-unique-data-6.html',\n",
       " 'http://www.importantsite.com/great-unique-data-7.html',\n",
       " 'http://www.importantsite.com/great-unique-data-8.html',\n",
       " 'http://www.importantsite.com/great-unique-data-9.html',\n",
       " 'http://www.importantsite.com/great-unique-data-10.html',\n",
       " 'http://www.importantsite.com/great-unique-data-11.html',\n",
       " 'http://www.importantsite.com/great-unique-data-12.html',\n",
       " 'http://www.importantsite.com/great-unique-data-13.html',\n",
       " 'http://www.importantsite.com/great-unique-data-14.html',\n",
       " 'http://www.importantsite.com/great-unique-data-15.html']"
      ]
     },
     "execution_count": 5,
     "metadata": {},
     "output_type": "execute_result"
    }
   ],
   "source": [
    "## build here:\n",
    "myULRS_updates = []\n",
    "for url in myURLS:\n",
    "    myULRS_updates.append(\"http://www.importantsite.com/\" + url)\n",
    "myULRS_updates"
   ]
  },
  {
   "cell_type": "markdown",
   "metadata": {},
   "source": [
    "## SETUP\n",
    "You have a long list of toxins. Run the next cell to pull the list into memory"
   ]
  },
  {
   "cell_type": "code",
   "execution_count": 6,
   "metadata": {},
   "outputs": [],
   "source": [
    "toxins = [\n",
    "        \"Recombinant Bovine Growth Hormone\", \n",
    "        \"Butylated Hydroxyanisole\", \n",
    "        \"Sodium Aluminum Sulphate\",\n",
    "        \"Potassium Aluminum Sulphate\",\n",
    "        \"Sodium Nitrite\",\n",
    "        \"Polycyclic Aromatic Hydrocarbons\",\n",
    "        \"Dioxins\",\n",
    "        \"Heterocyclic Amines\",\n",
    "        \"Butylated Hydroxytoluene\",\n",
    "        \"Polyvinyl Chloride\",\n",
    "        \"PVC\",\n",
    "        \"Perfluorooctanoic Acid\",\n",
    "        \"PFOA\",\n",
    "        \"Triclosan\",\n",
    "        \"Bisphenol-A\",\n",
    "        \"BPA\",\n",
    "        \"Formaldehyde\",\n",
    "        \"Naphthalene\",\n",
    "        \"Asbestos\"\n",
    "         ]"
   ]
  },
  {
   "cell_type": "markdown",
   "metadata": {},
   "source": [
    "## 3. Using a ```for loop``` to create a list called ```sodium_fl``` that captures only the toxins that have the word ```sodium``` in them."
   ]
  },
  {
   "cell_type": "code",
   "execution_count": 7,
   "metadata": {},
   "outputs": [
    {
     "data": {
      "text/plain": [
       "['Sodium Aluminum Sulphate', 'Sodium Nitrite']"
      ]
     },
     "execution_count": 7,
     "metadata": {},
     "output_type": "execute_result"
    }
   ],
   "source": [
    "## build it here\n",
    "sodium_fl = []\n",
    "for toxin in toxins:\n",
    "    if \"Sodium\" in toxin:\n",
    "        sodium_fl.append(toxin)\n",
    "sodium_fl"
   ]
  },
  {
   "cell_type": "markdown",
   "metadata": {},
   "source": [
    "## 4. Using a ```list comprehension``` create a list called ```sodium_lc``` that captures only the toxins that have the word ```sodium``` in them."
   ]
  },
  {
   "cell_type": "code",
   "execution_count": 8,
   "metadata": {
    "colab": {
     "base_uri": "https://localhost:8080/"
    },
    "id": "1_IubbqlC-w4",
    "outputId": "b680eae8-4ed3-4e0f-bf4b-f96ca0a17f46"
   },
   "outputs": [
    {
     "data": {
      "text/plain": [
       "['Sodium Aluminum Sulphate', 'Sodium Nitrite']"
      ]
     },
     "execution_count": 8,
     "metadata": {},
     "output_type": "execute_result"
    }
   ],
   "source": [
    "## build here: \n",
    "sodium_fl = [toxin for toxin in toxins if \"Sodium\" in toxin]\n",
    "sodium_fl"
   ]
  },
  {
   "cell_type": "markdown",
   "metadata": {},
   "source": [
    "## 5. ```for loop``` Calculations\n",
    "\n",
    "Run the following list:"
   ]
  },
  {
   "cell_type": "code",
   "execution_count": 9,
   "metadata": {},
   "outputs": [],
   "source": [
    "## run this cell\n",
    "monthly_rent_2023 = [3500, 2700, 1200, 5000, 3500, 2000, 4300, 3400, 3900 ]"
   ]
  },
  {
   "cell_type": "markdown",
   "metadata": {},
   "source": [
    "In this quickly gentrifying neighborhood, the monthly rent will increase by 27.8 percent for 2024.  Using a ```for loop``` create a new list called ```monthly_rent_2024_fl``` that shows the increased rent rounded to ZERO decimal places. \n",
    "\n",
    "Do the calculation programmatically."
   ]
  },
  {
   "cell_type": "code",
   "execution_count": 10,
   "metadata": {},
   "outputs": [
    {
     "data": {
      "text/plain": [
       "[4473, 3451, 1534, 6390, 4473, 2556, 5495, 4345, 4984]"
      ]
     },
     "execution_count": 10,
     "metadata": {},
     "output_type": "execute_result"
    }
   ],
   "source": [
    "### answer here (create more cells if necessary)\n",
    "rent_increase = 27.8\n",
    "monthly_rent_2024_fl =[]\n",
    "for monthly_rent in monthly_rent_2023:\n",
    "    monthly_rent_2024_fl.append(round(monthly_rent * (rent_increase / 100 + 1)))\n",
    "monthly_rent_2024_fl"
   ]
  },
  {
   "cell_type": "markdown",
   "metadata": {},
   "source": [
    "## 6. ```list comprehension``` Calculation\n",
    "\n",
    "The same scenario as above but now create a list called ```monthly_rent_2024_lc``` using ```list comprehension```."
   ]
  },
  {
   "cell_type": "code",
   "execution_count": 11,
   "metadata": {},
   "outputs": [
    {
     "data": {
      "text/plain": [
       "[4473, 3451, 1534, 6390, 4473, 2556, 5495, 4345, 4984]"
      ]
     },
     "execution_count": 11,
     "metadata": {},
     "output_type": "execute_result"
    }
   ],
   "source": [
    "### answer here (create more cells if necessary)\n",
    "monthly_rent_2024_lc = [round(monthly_rent * (rent_increase / 100 + 1)) for monthly_rent in monthly_rent_2023]\n",
    "monthly_rent_2024_lc"
   ]
  },
  {
   "cell_type": "markdown",
   "metadata": {},
   "source": [
    "## 7. ```zip``` it\n",
    "\n",
    "You scrape a website and end up with the lists below.\n",
    "\n",
    "Use both the methods we covered in class to create a ```df``` and then a ```csv``` file from these lists."
   ]
  },
  {
   "cell_type": "code",
   "execution_count": 12,
   "metadata": {},
   "outputs": [],
   "source": [
    "## The content you scraped is now in the following lists:\n",
    "\n",
    "source_files = ['7681804Q.pdf', '7543447R.pdf', '7864672J.pdf', '8073426Q.pdf', '7909756P.pdf', '7749758M.pdf', '7917101M.pdf', '7880385Y.pdf', '7958281Z.pdf', '7836909K.pdf', '7891371L.pdf', '7096205N.pdf']\n",
    "\n",
    "date_appeals = ['10-Jan-18', '31-May-17', '20-Nov-18', '6-Dec-19', '12-Feb-19', '1-May-18', '25-Feb-19', '18-Dec-18', '8-May-19', '2-Oct-18', '8-Jan-19', '6-Aug-15']\n",
    "\n",
    "cognition_related = [False, True, False, False, True, False, False, True, True, True, False, False]\n",
    "\n",
    "positive_decisions = [False, True, True, False, False, True, True, True, True, True, False, True]\n"
   ]
  },
  {
   "cell_type": "markdown",
   "metadata": {},
   "source": [
    "### A- Use the zip() into list of dictionaries method"
   ]
  },
  {
   "cell_type": "code",
   "execution_count": 13,
   "metadata": {},
   "outputs": [
    {
     "data": {
      "text/plain": [
       "[{'source_file': '7681804Q.pdf',\n",
       "  'date_appeal': '10-Jan-18',\n",
       "  'cognition_related': False,\n",
       "  'positive_decision': False},\n",
       " {'source_file': '7543447R.pdf',\n",
       "  'date_appeal': '31-May-17',\n",
       "  'cognition_related': True,\n",
       "  'positive_decision': True},\n",
       " {'source_file': '7864672J.pdf',\n",
       "  'date_appeal': '20-Nov-18',\n",
       "  'cognition_related': False,\n",
       "  'positive_decision': True},\n",
       " {'source_file': '8073426Q.pdf',\n",
       "  'date_appeal': '6-Dec-19',\n",
       "  'cognition_related': False,\n",
       "  'positive_decision': False},\n",
       " {'source_file': '7909756P.pdf',\n",
       "  'date_appeal': '12-Feb-19',\n",
       "  'cognition_related': True,\n",
       "  'positive_decision': False},\n",
       " {'source_file': '7749758M.pdf',\n",
       "  'date_appeal': '1-May-18',\n",
       "  'cognition_related': False,\n",
       "  'positive_decision': True},\n",
       " {'source_file': '7917101M.pdf',\n",
       "  'date_appeal': '25-Feb-19',\n",
       "  'cognition_related': False,\n",
       "  'positive_decision': True},\n",
       " {'source_file': '7880385Y.pdf',\n",
       "  'date_appeal': '18-Dec-18',\n",
       "  'cognition_related': True,\n",
       "  'positive_decision': True},\n",
       " {'source_file': '7958281Z.pdf',\n",
       "  'date_appeal': '8-May-19',\n",
       "  'cognition_related': True,\n",
       "  'positive_decision': True},\n",
       " {'source_file': '7836909K.pdf',\n",
       "  'date_appeal': '2-Oct-18',\n",
       "  'cognition_related': True,\n",
       "  'positive_decision': True},\n",
       " {'source_file': '7891371L.pdf',\n",
       "  'date_appeal': '8-Jan-19',\n",
       "  'cognition_related': False,\n",
       "  'positive_decision': False},\n",
       " {'source_file': '7096205N.pdf',\n",
       "  'date_appeal': '6-Aug-15',\n",
       "  'cognition_related': False,\n",
       "  'positive_decision': True}]"
      ]
     },
     "execution_count": 13,
     "metadata": {},
     "output_type": "execute_result"
    }
   ],
   "source": [
    "## code here – create more cells as necessary\n",
    "method_1 = []\n",
    "for (source_file, date_appeal, cognition_rel, positive_decision) in\\\n",
    "zip(source_files, date_appeals, cognition_related, positive_decisions):\n",
    "    method_1.append({\n",
    "        \"source_file\": source_file,\n",
    "        \"date_appeal\": date_appeal,\n",
    "        \"cognition_related\": cognition_rel,\n",
    "        \"positive_decision\": positive_decision,\n",
    "    })\n",
    "method_1"
   ]
  },
  {
   "cell_type": "code",
   "execution_count": 14,
   "metadata": {},
   "outputs": [],
   "source": [
    "## import pandas\n",
    "import pandas as pd"
   ]
  },
  {
   "cell_type": "code",
   "execution_count": 15,
   "metadata": {},
   "outputs": [
    {
     "data": {
      "text/html": [
       "<div>\n",
       "<style scoped>\n",
       "    .dataframe tbody tr th:only-of-type {\n",
       "        vertical-align: middle;\n",
       "    }\n",
       "\n",
       "    .dataframe tbody tr th {\n",
       "        vertical-align: top;\n",
       "    }\n",
       "\n",
       "    .dataframe thead th {\n",
       "        text-align: right;\n",
       "    }\n",
       "</style>\n",
       "<table border=\"1\" class=\"dataframe\">\n",
       "  <thead>\n",
       "    <tr style=\"text-align: right;\">\n",
       "      <th></th>\n",
       "      <th>source_file</th>\n",
       "      <th>date_appeal</th>\n",
       "      <th>cognition_related</th>\n",
       "      <th>positive_decision</th>\n",
       "    </tr>\n",
       "  </thead>\n",
       "  <tbody>\n",
       "    <tr>\n",
       "      <th>0</th>\n",
       "      <td>7681804Q.pdf</td>\n",
       "      <td>10-Jan-18</td>\n",
       "      <td>False</td>\n",
       "      <td>False</td>\n",
       "    </tr>\n",
       "    <tr>\n",
       "      <th>1</th>\n",
       "      <td>7543447R.pdf</td>\n",
       "      <td>31-May-17</td>\n",
       "      <td>True</td>\n",
       "      <td>True</td>\n",
       "    </tr>\n",
       "    <tr>\n",
       "      <th>2</th>\n",
       "      <td>7864672J.pdf</td>\n",
       "      <td>20-Nov-18</td>\n",
       "      <td>False</td>\n",
       "      <td>True</td>\n",
       "    </tr>\n",
       "    <tr>\n",
       "      <th>3</th>\n",
       "      <td>8073426Q.pdf</td>\n",
       "      <td>6-Dec-19</td>\n",
       "      <td>False</td>\n",
       "      <td>False</td>\n",
       "    </tr>\n",
       "    <tr>\n",
       "      <th>4</th>\n",
       "      <td>7909756P.pdf</td>\n",
       "      <td>12-Feb-19</td>\n",
       "      <td>True</td>\n",
       "      <td>False</td>\n",
       "    </tr>\n",
       "    <tr>\n",
       "      <th>5</th>\n",
       "      <td>7749758M.pdf</td>\n",
       "      <td>1-May-18</td>\n",
       "      <td>False</td>\n",
       "      <td>True</td>\n",
       "    </tr>\n",
       "    <tr>\n",
       "      <th>6</th>\n",
       "      <td>7917101M.pdf</td>\n",
       "      <td>25-Feb-19</td>\n",
       "      <td>False</td>\n",
       "      <td>True</td>\n",
       "    </tr>\n",
       "    <tr>\n",
       "      <th>7</th>\n",
       "      <td>7880385Y.pdf</td>\n",
       "      <td>18-Dec-18</td>\n",
       "      <td>True</td>\n",
       "      <td>True</td>\n",
       "    </tr>\n",
       "    <tr>\n",
       "      <th>8</th>\n",
       "      <td>7958281Z.pdf</td>\n",
       "      <td>8-May-19</td>\n",
       "      <td>True</td>\n",
       "      <td>True</td>\n",
       "    </tr>\n",
       "    <tr>\n",
       "      <th>9</th>\n",
       "      <td>7836909K.pdf</td>\n",
       "      <td>2-Oct-18</td>\n",
       "      <td>True</td>\n",
       "      <td>True</td>\n",
       "    </tr>\n",
       "    <tr>\n",
       "      <th>10</th>\n",
       "      <td>7891371L.pdf</td>\n",
       "      <td>8-Jan-19</td>\n",
       "      <td>False</td>\n",
       "      <td>False</td>\n",
       "    </tr>\n",
       "    <tr>\n",
       "      <th>11</th>\n",
       "      <td>7096205N.pdf</td>\n",
       "      <td>6-Aug-15</td>\n",
       "      <td>False</td>\n",
       "      <td>True</td>\n",
       "    </tr>\n",
       "  </tbody>\n",
       "</table>\n",
       "</div>"
      ],
      "text/plain": [
       "     source_file date_appeal  cognition_related  positive_decision\n",
       "0   7681804Q.pdf   10-Jan-18              False              False\n",
       "1   7543447R.pdf   31-May-17               True               True\n",
       "2   7864672J.pdf   20-Nov-18              False               True\n",
       "3   8073426Q.pdf    6-Dec-19              False              False\n",
       "4   7909756P.pdf   12-Feb-19               True              False\n",
       "5   7749758M.pdf    1-May-18              False               True\n",
       "6   7917101M.pdf   25-Feb-19              False               True\n",
       "7   7880385Y.pdf   18-Dec-18               True               True\n",
       "8   7958281Z.pdf    8-May-19               True               True\n",
       "9   7836909K.pdf    2-Oct-18               True               True\n",
       "10  7891371L.pdf    8-Jan-19              False              False\n",
       "11  7096205N.pdf    6-Aug-15              False               True"
      ]
     },
     "execution_count": 15,
     "metadata": {},
     "output_type": "execute_result"
    }
   ],
   "source": [
    "## Turn list into a dataframe\n",
    "df = pd.DataFrame(method_1)\n",
    "df"
   ]
  },
  {
   "cell_type": "markdown",
   "metadata": {},
   "source": [
    "### B- Use the zip() into list of tuples method"
   ]
  },
  {
   "cell_type": "code",
   "execution_count": 16,
   "metadata": {
    "scrolled": true
   },
   "outputs": [
    {
     "data": {
      "text/plain": [
       "[('7681804Q.pdf', '10-Jan-18', False, False),\n",
       " ('7543447R.pdf', '31-May-17', True, True),\n",
       " ('7864672J.pdf', '20-Nov-18', False, True),\n",
       " ('8073426Q.pdf', '6-Dec-19', False, False),\n",
       " ('7909756P.pdf', '12-Feb-19', True, False),\n",
       " ('7749758M.pdf', '1-May-18', False, True),\n",
       " ('7917101M.pdf', '25-Feb-19', False, True),\n",
       " ('7880385Y.pdf', '18-Dec-18', True, True),\n",
       " ('7958281Z.pdf', '8-May-19', True, True),\n",
       " ('7836909K.pdf', '2-Oct-18', True, True),\n",
       " ('7891371L.pdf', '8-Jan-19', False, False),\n",
       " ('7096205N.pdf', '6-Aug-15', False, True)]"
      ]
     },
     "execution_count": 16,
     "metadata": {},
     "output_type": "execute_result"
    }
   ],
   "source": [
    "## code here – create more cells as necessary\n",
    "method_2 = []\n",
    "for item in zip(source_files, date_appeals, cognition_related, positive_decisions):\n",
    "    method_2.append(item)\n",
    "method_2"
   ]
  },
  {
   "cell_type": "code",
   "execution_count": 17,
   "metadata": {},
   "outputs": [
    {
     "data": {
      "text/html": [
       "<div>\n",
       "<style scoped>\n",
       "    .dataframe tbody tr th:only-of-type {\n",
       "        vertical-align: middle;\n",
       "    }\n",
       "\n",
       "    .dataframe tbody tr th {\n",
       "        vertical-align: top;\n",
       "    }\n",
       "\n",
       "    .dataframe thead th {\n",
       "        text-align: right;\n",
       "    }\n",
       "</style>\n",
       "<table border=\"1\" class=\"dataframe\">\n",
       "  <thead>\n",
       "    <tr style=\"text-align: right;\">\n",
       "      <th></th>\n",
       "      <th>source_file</th>\n",
       "      <th>date_appeal</th>\n",
       "      <th>cognition_related</th>\n",
       "      <th>positive_decision</th>\n",
       "    </tr>\n",
       "  </thead>\n",
       "  <tbody>\n",
       "    <tr>\n",
       "      <th>0</th>\n",
       "      <td>7681804Q.pdf</td>\n",
       "      <td>10-Jan-18</td>\n",
       "      <td>False</td>\n",
       "      <td>False</td>\n",
       "    </tr>\n",
       "    <tr>\n",
       "      <th>1</th>\n",
       "      <td>7543447R.pdf</td>\n",
       "      <td>31-May-17</td>\n",
       "      <td>True</td>\n",
       "      <td>True</td>\n",
       "    </tr>\n",
       "    <tr>\n",
       "      <th>2</th>\n",
       "      <td>7864672J.pdf</td>\n",
       "      <td>20-Nov-18</td>\n",
       "      <td>False</td>\n",
       "      <td>True</td>\n",
       "    </tr>\n",
       "    <tr>\n",
       "      <th>3</th>\n",
       "      <td>8073426Q.pdf</td>\n",
       "      <td>6-Dec-19</td>\n",
       "      <td>False</td>\n",
       "      <td>False</td>\n",
       "    </tr>\n",
       "    <tr>\n",
       "      <th>4</th>\n",
       "      <td>7909756P.pdf</td>\n",
       "      <td>12-Feb-19</td>\n",
       "      <td>True</td>\n",
       "      <td>False</td>\n",
       "    </tr>\n",
       "    <tr>\n",
       "      <th>5</th>\n",
       "      <td>7749758M.pdf</td>\n",
       "      <td>1-May-18</td>\n",
       "      <td>False</td>\n",
       "      <td>True</td>\n",
       "    </tr>\n",
       "    <tr>\n",
       "      <th>6</th>\n",
       "      <td>7917101M.pdf</td>\n",
       "      <td>25-Feb-19</td>\n",
       "      <td>False</td>\n",
       "      <td>True</td>\n",
       "    </tr>\n",
       "    <tr>\n",
       "      <th>7</th>\n",
       "      <td>7880385Y.pdf</td>\n",
       "      <td>18-Dec-18</td>\n",
       "      <td>True</td>\n",
       "      <td>True</td>\n",
       "    </tr>\n",
       "    <tr>\n",
       "      <th>8</th>\n",
       "      <td>7958281Z.pdf</td>\n",
       "      <td>8-May-19</td>\n",
       "      <td>True</td>\n",
       "      <td>True</td>\n",
       "    </tr>\n",
       "    <tr>\n",
       "      <th>9</th>\n",
       "      <td>7836909K.pdf</td>\n",
       "      <td>2-Oct-18</td>\n",
       "      <td>True</td>\n",
       "      <td>True</td>\n",
       "    </tr>\n",
       "    <tr>\n",
       "      <th>10</th>\n",
       "      <td>7891371L.pdf</td>\n",
       "      <td>8-Jan-19</td>\n",
       "      <td>False</td>\n",
       "      <td>False</td>\n",
       "    </tr>\n",
       "    <tr>\n",
       "      <th>11</th>\n",
       "      <td>7096205N.pdf</td>\n",
       "      <td>6-Aug-15</td>\n",
       "      <td>False</td>\n",
       "      <td>True</td>\n",
       "    </tr>\n",
       "  </tbody>\n",
       "</table>\n",
       "</div>"
      ],
      "text/plain": [
       "     source_file date_appeal  cognition_related  positive_decision\n",
       "0   7681804Q.pdf   10-Jan-18              False              False\n",
       "1   7543447R.pdf   31-May-17               True               True\n",
       "2   7864672J.pdf   20-Nov-18              False               True\n",
       "3   8073426Q.pdf    6-Dec-19              False              False\n",
       "4   7909756P.pdf   12-Feb-19               True              False\n",
       "5   7749758M.pdf    1-May-18              False               True\n",
       "6   7917101M.pdf   25-Feb-19              False               True\n",
       "7   7880385Y.pdf   18-Dec-18               True               True\n",
       "8   7958281Z.pdf    8-May-19               True               True\n",
       "9   7836909K.pdf    2-Oct-18               True               True\n",
       "10  7891371L.pdf    8-Jan-19              False              False\n",
       "11  7096205N.pdf    6-Aug-15              False               True"
      ]
     },
     "execution_count": 17,
     "metadata": {},
     "output_type": "execute_result"
    }
   ],
   "source": [
    "## export to a pandas dataframe\n",
    "df2 = pd.DataFrame(method_2)\n",
    "df2.columns = [\"source_file\", \"date_appeal\", \"cognition_related\",\"positive_decision\"]\n",
    "df2"
   ]
  },
  {
   "cell_type": "markdown",
   "metadata": {},
   "source": [
    "## Congratulations!\n",
    "\n",
    "You just harnessed the power of Python to accomplish the following tasks that are critical foundational skills to become an advanced data journalist:\n",
    "\n",
    "1. Using the power of automation for iterate through tedious, but important tasks.\n",
    "2. Tapping Python to iterate through calculations. In a few weeks, you'll be doing this on millions of rows.\n",
    "3. Processing data we have scraped into dataframes and/or csv files for analysis."
   ]
  }
 ],
 "metadata": {
  "colab": {
   "collapsed_sections": [],
   "name": "homework-for-week-3-SOLUTIONS.ipynb",
   "provenance": []
  },
  "kernelspec": {
   "display_name": "Python 3",
   "language": "python",
   "name": "python3"
  },
  "language_info": {
   "codemirror_mode": {
    "name": "ipython",
    "version": 3
   },
   "file_extension": ".py",
   "mimetype": "text/x-python",
   "name": "python",
   "nbconvert_exporter": "python",
   "pygments_lexer": "ipython3",
   "version": "3.8.8"
  }
 },
 "nbformat": 4,
 "nbformat_minor": 1
}
