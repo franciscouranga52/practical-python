{
 "cells": [
  {
   "cell_type": "markdown",
   "metadata": {
    "id": "fv1F1HyA9zmX"
   },
   "source": [
    "# Dowload, Capture, Structure\n",
    "\n",
    "For your homework you downloaded **all** the files on <a href=\"https://sandeepmj.github.io/scrape-example-page/pages.html\">the demo site</a>. \n",
    "\n",
    "Let's say we have all the files <a href=\"https://drive.google.com/file/d/1med3kfLnfkGy2WChtp-Pdsa5QO6Mp569/view?usp=share_link\">in this folder</a>. Download this folder and move it next to your ```.ipynb``` file. (Soon we'll learn how to do this programmatically.)\n",
    "\n",
    "### Goal:\n",
    "\n",
    "Create a dataframe that holds:\n",
    "\n",
    "- name of the renter, \n",
    "- whether their lease of renewed or terminated,\n",
    "- the name of the source file."
   ]
  },
  {
   "cell_type": "code",
   "execution_count": 2,
   "metadata": {
    "id": "m2ru6dyM9zmb"
   },
   "outputs": [],
   "source": [
    "# import libraries\n",
    "import pandas as pd\n",
    "import glob\n"
   ]
  },
  {
   "cell_type": "markdown",
   "metadata": {
    "id": "lJMGDK6Uh5-h"
   },
   "source": [
    "# Giving structure to unstructured data"
   ]
  },
  {
   "cell_type": "code",
   "execution_count": 3,
   "metadata": {
    "id": "yFKQYyAiGbYH"
   },
   "outputs": [
    {
     "data": {
      "text/plain": [
       "['my_downloads/text_doc_01.txt',\n",
       " 'my_downloads/text_doc_02.txt',\n",
       " 'my_downloads/text_doc_03.txt',\n",
       " 'my_downloads/text_doc_04.txt',\n",
       " 'my_downloads/text_doc_05.txt',\n",
       " 'my_downloads/text_doc_06.txt',\n",
       " 'my_downloads/text_doc_07.txt',\n",
       " 'my_downloads/text_doc_08.txt',\n",
       " 'my_downloads/text_doc_09.txt',\n",
       " 'my_downloads/text_doc_10.txt',\n",
       " 'my_downloads/text_doc_A.txt',\n",
       " 'my_downloads/text_doc_B.txt',\n",
       " 'my_downloads/text_doc_C.txt',\n",
       " 'my_downloads/text_doc_D.txt',\n",
       " 'my_downloads/text_doc_E.txt',\n",
       " 'my_downloads/text_doc_F.txt',\n",
       " 'my_downloads/text_doc_G.txt',\n",
       " 'my_downloads/text_doc_H.txt',\n",
       " 'my_downloads/text_doc_I.txt',\n",
       " 'my_downloads/text_doc_J.txt']"
      ]
     },
     "execution_count": 3,
     "metadata": {},
     "output_type": "execute_result"
    }
   ],
   "source": [
    "## pull ONLY all txt files into our notebook\n",
    "all_txts = sorted(glob.glob (\"my_downloads/*.txt\")) # carga la lista de documentos en el notebook\n",
    "all_txts"
   ]
  },
  {
   "cell_type": "code",
   "execution_count": 13,
   "metadata": {
    "id": "fqN9xmTuD-Ao"
   },
   "outputs": [
    {
     "name": "stdout",
     "output_type": "stream",
     "text": [
      "['Client: Pen Federal Credit Union\\n', '\\n', 'The decision is to renew rental agreement.']\n",
      "['Client: Help Desk Inc.\\n', '\\n', 'The decision is to renew rental agreement.']\n",
      "[\"Client: Global Wax n' Wane\\n\", '\\n', 'The decision is to renew rental agreement.']\n",
      "['Client: Kick Box\\n', '\\n', 'The decision is to terminate lease agreement.']\n",
      "['Client: RedKey Inc.\\n', '\\n', 'The decision is to terminate lease agreement.']\n",
      "['Client: Clip-n-Chip\\n', '\\n', 'The decision is to terminate lease agreement.']\n",
      "['Client: CoLens Limited\\n', '\\n', 'The decision is to terminate lease agreement.']\n",
      "['Client: Diceware Inc.\\n', '\\n', 'The decision is to renew rental agreement.']\n",
      "['Client: Teflon Inc.\\n', '\\n', 'The decision is to terminate lease agreement.']\n",
      "['Client: RBG Inc.\\n', '\\n', 'The decision is to renew rental agreement.']\n",
      "['Client: Pumkin Spice Corp\\n', '\\n', 'The decision is to renew rental agreement.']\n",
      "['Client: Camera AI\\n', '\\n', 'The decision is to renew rental agreement.']\n",
      "['Client: Glassware Design\\n', '\\n', 'The decision is to terminate rental agreement.']\n",
      "['Client: Check Cashing\\n', '\\n', 'The decision is to terminate lease agreement.']\n",
      "['Client: Ramp Lamp Corp.\\n', '\\n', 'The decision is to terminate lease agreement.']\n",
      "['Client: Cap-n-Gown Inc.\\n', '\\n', 'The decision is to renew lease agreement.']\n",
      "['Client: Crooked Curve Association\\n', '\\n', 'The decision is to renew lease agreement.']\n",
      "['Client: Pet Bed Nation Inc.\\n', '\\n', 'The decision is to renew rental agreement.']\n",
      "['Client: Flower Power\\n', '\\n', 'The decision is to renew lease agreement.']\n",
      "['Client: Speaker List Bureau\\n', '\\n', 'The decision is to renew rental agreement.']\n"
     ]
    }
   ],
   "source": [
    "## let's see what the first line of each file contains\n",
    "for txt_file in all_txts:\n",
    "    #print(txt_file)\n",
    "    with open(txt_file, \"r\") as my_text:\n",
    "        all_text = my_text.readlines()\n",
    "        print (all_text)"
   ]
  },
  {
   "cell_type": "code",
   "execution_count": 45,
   "metadata": {
    "scrolled": true
   },
   "outputs": [
    {
     "name": "stdout",
     "output_type": "stream",
     "text": [
      "Requirement already satisfied: icecream in /Applications/anaconda3/lib/python3.8/site-packages (2.1.3)\n",
      "Requirement already satisfied: executing>=0.3.1 in /Applications/anaconda3/lib/python3.8/site-packages (from icecream) (2.0.0)\n",
      "Requirement already satisfied: colorama>=0.3.9 in /Applications/anaconda3/lib/python3.8/site-packages (from icecream) (0.4.4)\n",
      "Requirement already satisfied: pygments>=2.2.0 in /Applications/anaconda3/lib/python3.8/site-packages (from icecream) (2.8.1)\n",
      "Requirement already satisfied: asttokens>=2.0.1 in /Applications/anaconda3/lib/python3.8/site-packages (from icecream) (2.4.0)\n",
      "Requirement already satisfied: six>=1.12.0 in /Applications/anaconda3/lib/python3.8/site-packages (from asttokens>=2.0.1->icecream) (1.15.0)\n",
      "Note: you may need to restart the kernel to use updated packages.\n"
     ]
    }
   ],
   "source": [
    "pip install icecream"
   ]
  },
  {
   "cell_type": "code",
   "execution_count": 46,
   "metadata": {},
   "outputs": [],
   "source": [
    "from icecream import ic"
   ]
  },
  {
   "cell_type": "code",
   "execution_count": 14,
   "metadata": {
    "id": "WmZYM2D4D99U"
   },
   "outputs": [
    {
     "ename": "IndexError",
     "evalue": "string index out of range",
     "output_type": "error",
     "traceback": [
      "\u001b[0;31m---------------------------------------------------------------------------\u001b[0m",
      "\u001b[0;31mIndexError\u001b[0m                                Traceback (most recent call last)",
      "\u001b[0;32m<ipython-input-14-b2e6a90b3afd>\u001b[0m in \u001b[0;36m<module>\u001b[0;34m\u001b[0m\n\u001b[1;32m      9\u001b[0m         \u001b[0;31m#ic(txt_file)\u001b[0m\u001b[0;34m\u001b[0m\u001b[0;34m\u001b[0m\u001b[0;34m\u001b[0m\u001b[0m\n\u001b[1;32m     10\u001b[0m         \u001b[0mclient\u001b[0m \u001b[0;34m=\u001b[0m \u001b[0mmy_text\u001b[0m\u001b[0;34m.\u001b[0m\u001b[0mreadline\u001b[0m\u001b[0;34m(\u001b[0m\u001b[0;34m)\u001b[0m\u001b[0;34m[\u001b[0m\u001b[0;36m0\u001b[0m\u001b[0;34m]\u001b[0m\u001b[0;34m.\u001b[0m\u001b[0mreplace\u001b[0m\u001b[0;34m(\u001b[0m\u001b[0;34m\"Client: \"\u001b[0m\u001b[0;34m,\u001b[0m \u001b[0;34m\"\"\u001b[0m\u001b[0;34m)\u001b[0m\u001b[0;34m\u001b[0m\u001b[0;34m\u001b[0m\u001b[0m\n\u001b[0;32m---> 11\u001b[0;31m         \u001b[0mdecision\u001b[0m \u001b[0;34m=\u001b[0m \u001b[0mmy_text\u001b[0m\u001b[0;34m.\u001b[0m\u001b[0mreadline\u001b[0m\u001b[0;34m(\u001b[0m\u001b[0;34m)\u001b[0m\u001b[0;34m[\u001b[0m\u001b[0;36m2\u001b[0m\u001b[0;34m]\u001b[0m\u001b[0;34m\u001b[0m\u001b[0;34m\u001b[0m\u001b[0m\n\u001b[0m\u001b[1;32m     12\u001b[0m         \u001b[0;32mif\u001b[0m \u001b[0;34m\"renew\"\u001b[0m \u001b[0;32min\u001b[0m \u001b[0mdecision\u001b[0m\u001b[0;34m:\u001b[0m\u001b[0;34m\u001b[0m\u001b[0;34m\u001b[0m\u001b[0m\n\u001b[1;32m     13\u001b[0m             \u001b[0mdecision\u001b[0m \u001b[0;34m=\u001b[0m \u001b[0;34m\"renew\"\u001b[0m\u001b[0;34m\u001b[0m\u001b[0;34m\u001b[0m\u001b[0m\n",
      "\u001b[0;31mIndexError\u001b[0m: string index out of range"
     ]
    }
   ],
   "source": [
    "## create a list of dictionaries that holds the renter name, \n",
    "## lease decision, and source file\n",
    "## let's see what the first line of each file contains\n",
    "decisions_list = []\n",
    "\n",
    "for txt_file in all_txts:\n",
    "    with open(txt_file, \"r\") as my_text:\n",
    "        #ic(client)\n",
    "        #ic(txt_file)\n",
    "        client = my_text.readline()[0].replace(\"Client: \", \"\")\n",
    "        decision = my_text.readline()[2] \n",
    "        if \"renew\" in decision:\n",
    "            decision = \"renew\"\n",
    "        else: \n",
    "            decision = \"terminate\"\n",
    "        source = txt_file\n",
    "        decisions_dict = {\"Client\" : client, \"Decision\" : decision, \"Source\" : source}\n",
    "        decisions_list.append(decisions_dict)"
   ]
  },
  {
   "cell_type": "code",
   "execution_count": 12,
   "metadata": {},
   "outputs": [
    {
     "data": {
      "text/plain": [
       "[]"
      ]
     },
     "execution_count": 12,
     "metadata": {},
     "output_type": "execute_result"
    }
   ],
   "source": [
    "## call that list of dictionaries\n",
    "decisions_list"
   ]
  },
  {
   "cell_type": "code",
   "execution_count": 11,
   "metadata": {},
   "outputs": [],
   "source": [
    "## turn into df\n",
    "df = pd.DataFrame (decisions_list)"
   ]
  },
  {
   "cell_type": "code",
   "execution_count": 41,
   "metadata": {},
   "outputs": [
    {
     "data": {
      "text/html": [
       "<div>\n",
       "<style scoped>\n",
       "    .dataframe tbody tr th:only-of-type {\n",
       "        vertical-align: middle;\n",
       "    }\n",
       "\n",
       "    .dataframe tbody tr th {\n",
       "        vertical-align: top;\n",
       "    }\n",
       "\n",
       "    .dataframe thead th {\n",
       "        text-align: right;\n",
       "    }\n",
       "</style>\n",
       "<table border=\"1\" class=\"dataframe\">\n",
       "  <thead>\n",
       "    <tr style=\"text-align: right;\">\n",
       "      <th></th>\n",
       "      <th>Client:</th>\n",
       "      <th>Decision:</th>\n",
       "      <th>Source:</th>\n",
       "    </tr>\n",
       "  </thead>\n",
       "  <tbody>\n",
       "    <tr>\n",
       "      <th>0</th>\n",
       "      <td>Pen Federal Credit Union\\n</td>\n",
       "      <td>renew</td>\n",
       "      <td>my_downloads/text_doc_01.txt</td>\n",
       "    </tr>\n",
       "    <tr>\n",
       "      <th>1</th>\n",
       "      <td>Help Desk Inc.\\n</td>\n",
       "      <td>renew</td>\n",
       "      <td>my_downloads/text_doc_02.txt</td>\n",
       "    </tr>\n",
       "    <tr>\n",
       "      <th>2</th>\n",
       "      <td>Global Wax n' Wane\\n</td>\n",
       "      <td>renew</td>\n",
       "      <td>my_downloads/text_doc_03.txt</td>\n",
       "    </tr>\n",
       "    <tr>\n",
       "      <th>3</th>\n",
       "      <td>Kick Box\\n</td>\n",
       "      <td>terminate</td>\n",
       "      <td>my_downloads/text_doc_04.txt</td>\n",
       "    </tr>\n",
       "    <tr>\n",
       "      <th>4</th>\n",
       "      <td>RedKey Inc.\\n</td>\n",
       "      <td>terminate</td>\n",
       "      <td>my_downloads/text_doc_05.txt</td>\n",
       "    </tr>\n",
       "    <tr>\n",
       "      <th>5</th>\n",
       "      <td>Clip-n-Chip\\n</td>\n",
       "      <td>terminate</td>\n",
       "      <td>my_downloads/text_doc_06.txt</td>\n",
       "    </tr>\n",
       "    <tr>\n",
       "      <th>6</th>\n",
       "      <td>CoLens Limited\\n</td>\n",
       "      <td>terminate</td>\n",
       "      <td>my_downloads/text_doc_07.txt</td>\n",
       "    </tr>\n",
       "    <tr>\n",
       "      <th>7</th>\n",
       "      <td>Diceware Inc.\\n</td>\n",
       "      <td>renew</td>\n",
       "      <td>my_downloads/text_doc_08.txt</td>\n",
       "    </tr>\n",
       "    <tr>\n",
       "      <th>8</th>\n",
       "      <td>Teflon Inc.\\n</td>\n",
       "      <td>terminate</td>\n",
       "      <td>my_downloads/text_doc_09.txt</td>\n",
       "    </tr>\n",
       "    <tr>\n",
       "      <th>9</th>\n",
       "      <td>RBG Inc.\\n</td>\n",
       "      <td>renew</td>\n",
       "      <td>my_downloads/text_doc_10.txt</td>\n",
       "    </tr>\n",
       "    <tr>\n",
       "      <th>10</th>\n",
       "      <td>Pumkin Spice Corp\\n</td>\n",
       "      <td>renew</td>\n",
       "      <td>my_downloads/text_doc_A.txt</td>\n",
       "    </tr>\n",
       "    <tr>\n",
       "      <th>11</th>\n",
       "      <td>Camera AI\\n</td>\n",
       "      <td>renew</td>\n",
       "      <td>my_downloads/text_doc_B.txt</td>\n",
       "    </tr>\n",
       "    <tr>\n",
       "      <th>12</th>\n",
       "      <td>Glassware Design\\n</td>\n",
       "      <td>terminate</td>\n",
       "      <td>my_downloads/text_doc_C.txt</td>\n",
       "    </tr>\n",
       "    <tr>\n",
       "      <th>13</th>\n",
       "      <td>Check Cashing\\n</td>\n",
       "      <td>terminate</td>\n",
       "      <td>my_downloads/text_doc_D.txt</td>\n",
       "    </tr>\n",
       "    <tr>\n",
       "      <th>14</th>\n",
       "      <td>Ramp Lamp Corp.\\n</td>\n",
       "      <td>terminate</td>\n",
       "      <td>my_downloads/text_doc_E.txt</td>\n",
       "    </tr>\n",
       "    <tr>\n",
       "      <th>15</th>\n",
       "      <td>Cap-n-Gown Inc.\\n</td>\n",
       "      <td>renew</td>\n",
       "      <td>my_downloads/text_doc_F.txt</td>\n",
       "    </tr>\n",
       "    <tr>\n",
       "      <th>16</th>\n",
       "      <td>Crooked Curve Association\\n</td>\n",
       "      <td>renew</td>\n",
       "      <td>my_downloads/text_doc_G.txt</td>\n",
       "    </tr>\n",
       "    <tr>\n",
       "      <th>17</th>\n",
       "      <td>Pet Bed Nation Inc.\\n</td>\n",
       "      <td>renew</td>\n",
       "      <td>my_downloads/text_doc_H.txt</td>\n",
       "    </tr>\n",
       "    <tr>\n",
       "      <th>18</th>\n",
       "      <td>Flower Power\\n</td>\n",
       "      <td>renew</td>\n",
       "      <td>my_downloads/text_doc_I.txt</td>\n",
       "    </tr>\n",
       "    <tr>\n",
       "      <th>19</th>\n",
       "      <td>Speaker List Bureau\\n</td>\n",
       "      <td>renew</td>\n",
       "      <td>my_downloads/text_doc_J.txt</td>\n",
       "    </tr>\n",
       "  </tbody>\n",
       "</table>\n",
       "</div>"
      ],
      "text/plain": [
       "                       Client:  Decision:                       Source: \n",
       "0    Pen Federal Credit Union\\n      renew  my_downloads/text_doc_01.txt\n",
       "1              Help Desk Inc.\\n      renew  my_downloads/text_doc_02.txt\n",
       "2          Global Wax n' Wane\\n      renew  my_downloads/text_doc_03.txt\n",
       "3                    Kick Box\\n  terminate  my_downloads/text_doc_04.txt\n",
       "4                 RedKey Inc.\\n  terminate  my_downloads/text_doc_05.txt\n",
       "5                 Clip-n-Chip\\n  terminate  my_downloads/text_doc_06.txt\n",
       "6              CoLens Limited\\n  terminate  my_downloads/text_doc_07.txt\n",
       "7               Diceware Inc.\\n      renew  my_downloads/text_doc_08.txt\n",
       "8                 Teflon Inc.\\n  terminate  my_downloads/text_doc_09.txt\n",
       "9                    RBG Inc.\\n      renew  my_downloads/text_doc_10.txt\n",
       "10          Pumkin Spice Corp\\n      renew   my_downloads/text_doc_A.txt\n",
       "11                  Camera AI\\n      renew   my_downloads/text_doc_B.txt\n",
       "12           Glassware Design\\n  terminate   my_downloads/text_doc_C.txt\n",
       "13              Check Cashing\\n  terminate   my_downloads/text_doc_D.txt\n",
       "14            Ramp Lamp Corp.\\n  terminate   my_downloads/text_doc_E.txt\n",
       "15            Cap-n-Gown Inc.\\n      renew   my_downloads/text_doc_F.txt\n",
       "16  Crooked Curve Association\\n      renew   my_downloads/text_doc_G.txt\n",
       "17        Pet Bed Nation Inc.\\n      renew   my_downloads/text_doc_H.txt\n",
       "18               Flower Power\\n      renew   my_downloads/text_doc_I.txt\n",
       "19        Speaker List Bureau\\n      renew   my_downloads/text_doc_J.txt"
      ]
     },
     "execution_count": 41,
     "metadata": {},
     "output_type": "execute_result"
    }
   ],
   "source": [
    "df"
   ]
  }
 ],
 "metadata": {
  "celltoolbar": "Slideshow",
  "colab": {
   "collapsed_sections": [],
   "name": "week-8C-download-and-read_BLANK.ipynb",
   "provenance": [
    {
     "file_id": "1O76yK1JGDPc1kRTHTOIDjev2XbLGExhv",
     "timestamp": 1646785092936
    },
    {
     "file_id": "1U8zDTAuA8NQ2JaDzSqzSn03P2iT8KFLG",
     "timestamp": 1639579061177
    },
    {
     "file_id": "1tC30RwvbvYZQU9bLZ75I6kBbMski9LFN",
     "timestamp": 1628626954402
    }
   ]
  },
  "kernelspec": {
   "display_name": "Python 3",
   "language": "python",
   "name": "python3"
  },
  "language_info": {
   "codemirror_mode": {
    "name": "ipython",
    "version": 3
   },
   "file_extension": ".py",
   "mimetype": "text/x-python",
   "name": "python",
   "nbconvert_exporter": "python",
   "pygments_lexer": "ipython3",
   "version": "3.8.8"
  }
 },
 "nbformat": 4,
 "nbformat_minor": 1
}
