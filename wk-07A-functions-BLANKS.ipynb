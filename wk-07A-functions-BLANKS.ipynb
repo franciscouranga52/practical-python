{
 "cells": [
  {
   "cell_type": "markdown",
   "id": "3dc2667e",
   "metadata": {},
   "source": [
    "# Functions - Part 2\n",
    "\n",
    "### Adding Flexibility"
   ]
  },
  {
   "cell_type": "code",
   "execution_count": 1,
   "id": "859af296",
   "metadata": {},
   "outputs": [],
   "source": [
    "## RUN THIS CELL\n",
    "## Each list of numbers has to be turned into absolute numbers \n",
    "mylist1 = [1, -5, 22, -44.2, 33, -45]\n",
    "mylist2 = [-56, -34, -75, -111, -22]\n",
    "mylist3 = [-100, -200, 100, -300, -100]\n",
    "mylist4 = [-23, -89, -11, -45, -27]\n",
    "mylist5 = [0, 1, 2, 3, 4, 5]"
   ]
  },
  {
   "cell_type": "code",
   "execution_count": 4,
   "id": "d035ea17",
   "metadata": {},
   "outputs": [],
   "source": [
    "## Our function from last week to turn a number into an absolute value\n",
    "def absNumber(list_name):\n",
    "    '''\n",
    "    Take list, return an updated list with absolute values\n",
    "    '''\n",
    "    return [abs(number) for number in list_name ]\n"
   ]
  },
  {
   "cell_type": "code",
   "execution_count": 6,
   "id": "5fb70221",
   "metadata": {},
   "outputs": [
    {
     "data": {
      "text/plain": [
       "[1, 5, 22, 44.2, 33, 45]"
      ]
     },
     "execution_count": 6,
     "metadata": {},
     "output_type": "execute_result"
    }
   ],
   "source": [
    "## test it here on a list\n",
    "## and store in variable\n",
    "updated1 = absNumber(mylist1)\n",
    "updated1"
   ]
  },
  {
   "cell_type": "markdown",
   "id": "dff7c12d",
   "metadata": {},
   "source": [
    "## Make a function more flexible and universal\n",
    "\n",
    "* Currently, we have a function that takes ONLY a list as an argument.\n",
    "* We'd have to write another one for a single number argument."
   ]
  },
  {
   "cell_type": "code",
   "execution_count": 8,
   "id": "8304ead5",
   "metadata": {},
   "outputs": [
    {
     "ename": "TypeError",
     "evalue": "'int' object is not iterable",
     "output_type": "error",
     "traceback": [
      "\u001b[0;31m---------------------------------------------------------------------------\u001b[0m",
      "\u001b[0;31mTypeError\u001b[0m                                 Traceback (most recent call last)",
      "\u001b[0;32m<ipython-input-8-414b7a5c907a>\u001b[0m in \u001b[0;36m<module>\u001b[0;34m\u001b[0m\n\u001b[1;32m      1\u001b[0m \u001b[0;31m## try using it on a single number like -10\u001b[0m\u001b[0;34m\u001b[0m\u001b[0;34m\u001b[0m\u001b[0;34m\u001b[0m\u001b[0m\n\u001b[1;32m      2\u001b[0m \u001b[0;31m## it will break\u001b[0m\u001b[0;34m\u001b[0m\u001b[0;34m\u001b[0m\u001b[0;34m\u001b[0m\u001b[0m\n\u001b[0;32m----> 3\u001b[0;31m \u001b[0mabsNumber\u001b[0m\u001b[0;34m(\u001b[0m\u001b[0;34m-\u001b[0m\u001b[0;36m10\u001b[0m\u001b[0;34m)\u001b[0m\u001b[0;34m\u001b[0m\u001b[0;34m\u001b[0m\u001b[0m\n\u001b[0m",
      "\u001b[0;32m<ipython-input-4-7bedeaa98946>\u001b[0m in \u001b[0;36mabsNumber\u001b[0;34m(list_name)\u001b[0m\n\u001b[1;32m      4\u001b[0m     \u001b[0mTake\u001b[0m \u001b[0mlist\u001b[0m\u001b[0;34m,\u001b[0m \u001b[0;32mreturn\u001b[0m \u001b[0man\u001b[0m \u001b[0mupdated\u001b[0m \u001b[0mlist\u001b[0m \u001b[0;32mwith\u001b[0m \u001b[0mabsolute\u001b[0m \u001b[0mvalues\u001b[0m\u001b[0;34m\u001b[0m\u001b[0;34m\u001b[0m\u001b[0m\n\u001b[1;32m      5\u001b[0m     '''\n\u001b[0;32m----> 6\u001b[0;31m     \u001b[0;32mreturn\u001b[0m \u001b[0;34m[\u001b[0m\u001b[0mabs\u001b[0m\u001b[0;34m(\u001b[0m\u001b[0mnumber\u001b[0m\u001b[0;34m)\u001b[0m \u001b[0;32mfor\u001b[0m \u001b[0mnumber\u001b[0m \u001b[0;32min\u001b[0m \u001b[0mlist_name\u001b[0m \u001b[0;34m]\u001b[0m\u001b[0;34m\u001b[0m\u001b[0;34m\u001b[0m\u001b[0m\n\u001b[0m",
      "\u001b[0;31mTypeError\u001b[0m: 'int' object is not iterable"
     ]
    }
   ],
   "source": [
    "## try using it on a single number like -10\n",
    "## it will break\n",
    "absNumber(-10)"
   ]
  },
  {
   "cell_type": "markdown",
   "id": "40f6de73",
   "metadata": {},
   "source": [
    "## Universalize our absolute numbers function"
   ]
  },
  {
   "cell_type": "code",
   "execution_count": 9,
   "id": "1e457cfc",
   "metadata": {},
   "outputs": [],
   "source": [
    "## name the function make_abs\n",
    "def make_abs (a_number):\n",
    "    return (abs(a_number))\n"
   ]
  },
  {
   "cell_type": "code",
   "execution_count": 10,
   "id": "0afaf09f",
   "metadata": {},
   "outputs": [
    {
     "ename": "TypeError",
     "evalue": "bad operand type for abs(): 'list'",
     "output_type": "error",
     "traceback": [
      "\u001b[0;31m---------------------------------------------------------------------------\u001b[0m",
      "\u001b[0;31mTypeError\u001b[0m                                 Traceback (most recent call last)",
      "\u001b[0;32m<ipython-input-10-f3cf5244c04c>\u001b[0m in \u001b[0;36m<module>\u001b[0;34m\u001b[0m\n\u001b[1;32m      1\u001b[0m \u001b[0;31m## Try it on mylist3 - it will break!\u001b[0m\u001b[0;34m\u001b[0m\u001b[0;34m\u001b[0m\u001b[0;34m\u001b[0m\u001b[0m\n\u001b[0;32m----> 2\u001b[0;31m \u001b[0mmake_abs\u001b[0m\u001b[0;34m(\u001b[0m\u001b[0mmylist3\u001b[0m\u001b[0;34m)\u001b[0m\u001b[0;34m\u001b[0m\u001b[0;34m\u001b[0m\u001b[0m\n\u001b[0m",
      "\u001b[0;32m<ipython-input-9-22f4601680e8>\u001b[0m in \u001b[0;36mmake_abs\u001b[0;34m(a_number)\u001b[0m\n\u001b[1;32m      1\u001b[0m \u001b[0;31m## name the function make_abs\u001b[0m\u001b[0;34m\u001b[0m\u001b[0;34m\u001b[0m\u001b[0;34m\u001b[0m\u001b[0m\n\u001b[1;32m      2\u001b[0m \u001b[0;32mdef\u001b[0m \u001b[0mmake_abs\u001b[0m \u001b[0;34m(\u001b[0m\u001b[0ma_number\u001b[0m\u001b[0;34m)\u001b[0m\u001b[0;34m:\u001b[0m\u001b[0;34m\u001b[0m\u001b[0;34m\u001b[0m\u001b[0m\n\u001b[0;32m----> 3\u001b[0;31m     \u001b[0;32mreturn\u001b[0m \u001b[0;34m(\u001b[0m\u001b[0mabs\u001b[0m\u001b[0;34m(\u001b[0m\u001b[0ma_number\u001b[0m\u001b[0;34m)\u001b[0m\u001b[0;34m)\u001b[0m\u001b[0;34m\u001b[0m\u001b[0;34m\u001b[0m\u001b[0m\n\u001b[0m",
      "\u001b[0;31mTypeError\u001b[0m: bad operand type for abs(): 'list'"
     ]
    }
   ],
   "source": [
    "## Try it on mylist3 - it will break!\n",
    "make_abs(mylist3)"
   ]
  },
  {
   "cell_type": "code",
   "execution_count": 11,
   "id": "82a1c8c7",
   "metadata": {},
   "outputs": [
    {
     "data": {
      "text/plain": [
       "10"
      ]
     },
     "execution_count": 11,
     "metadata": {},
     "output_type": "execute_result"
    }
   ],
   "source": [
    "## A single number works\n",
    "make_abs (-10)"
   ]
  },
  {
   "cell_type": "markdown",
   "id": "0c6f7cb8",
   "metadata": {},
   "source": [
    "## That's not flexible or universal.\n",
    "\n",
    "Now our ```function``` can't take a list.\n",
    "\n",
    "But we can use the ```map()``` function to tackle this problem.\n",
    "\n",
    "```map()``` takes 2 arguments: a ```function``` and ```iterable like a list```.\n",
    "\n"
   ]
  },
  {
   "cell_type": "code",
   "execution_count": 16,
   "id": "47cabcee",
   "metadata": {},
   "outputs": [
    {
     "data": {
      "text/plain": [
       "<map at 0x7f7c6878f190>"
      ]
     },
     "execution_count": 16,
     "metadata": {},
     "output_type": "execute_result"
    }
   ],
   "source": [
    "## try it on make_abs and mylist3\n",
    "map(make_abs, mylist3)"
   ]
  },
  {
   "cell_type": "code",
   "execution_count": 25,
   "id": "9e97fbaf",
   "metadata": {},
   "outputs": [
    {
     "data": {
      "text/plain": [
       "[100, 200, 100, 300, 100]"
      ]
     },
     "execution_count": 25,
     "metadata": {},
     "output_type": "execute_result"
    }
   ],
   "source": [
    "## save it into a list\n",
    "mylist3_updated = list(map(make_abs, mylist3))\n",
    "mylist3_updated"
   ]
  },
  {
   "cell_type": "markdown",
   "id": "bcae19ca",
   "metadata": {},
   "source": [
    "## ```map()``` also works for multiple iterables"
   ]
  },
  {
   "cell_type": "code",
   "execution_count": 26,
   "id": "37f573a5",
   "metadata": {},
   "outputs": [],
   "source": [
    "## function to add 2 numbers:\n",
    "def addNumbers (number1, number2):\n",
    "    return (number1 + number2)"
   ]
  },
  {
   "cell_type": "code",
   "execution_count": 28,
   "id": "646ac2ff",
   "metadata": {},
   "outputs": [],
   "source": [
    "## run this cell of two lists\n",
    "a_even = [2, 4, 6, 8]\n",
    "a_odd = [1, 3, 5, 7, 9] ## note this has one more item in the list."
   ]
  },
  {
   "cell_type": "code",
   "execution_count": 30,
   "id": "55a29673",
   "metadata": {},
   "outputs": [
    {
     "data": {
      "text/plain": [
       "[3, 7, 11, 15]"
      ]
     },
     "execution_count": 30,
     "metadata": {},
     "output_type": "execute_result"
    }
   ],
   "source": [
    "## run map on a_even and a_odd\n",
    "list(map (addNumbers, a_even, a_odd))"
   ]
  },
  {
   "cell_type": "markdown",
   "id": "1a2d8d89",
   "metadata": {},
   "source": [
    "## Functions that call other funcions"
   ]
  },
  {
   "cell_type": "code",
   "execution_count": 31,
   "id": "d843bfb6",
   "metadata": {},
   "outputs": [],
   "source": [
    "## let's create a function that returns the square of a number\n",
    "\n",
    "def sq_me (number):\n",
    "#    return number * number\n",
    "#    return number **2\n",
    "    return pow (number,2) # función prefabricada en python"
   ]
  },
  {
   "cell_type": "code",
   "execution_count": 32,
   "id": "0ff9680d",
   "metadata": {},
   "outputs": [
    {
     "data": {
      "text/plain": [
       "81"
      ]
     },
     "execution_count": 32,
     "metadata": {},
     "output_type": "execute_result"
    }
   ],
   "source": [
    "## what is 9 squared?\n",
    "sq_me (9)"
   ]
  },
  {
   "cell_type": "markdown",
   "id": "ed2969fe",
   "metadata": {},
   "source": [
    "### Making a point here with a simple example\n",
    "Let's say we want to add 2 numbers together and then square that result.\n",
    "\n",
    "Instead of writing one \"complex\" function, we can call on our modular functions."
   ]
  },
  {
   "cell_type": "code",
   "execution_count": 36,
   "id": "b235cd54",
   "metadata": {},
   "outputs": [],
   "source": [
    "## bloated function\n",
    "def bloated (number1, number2):\n",
    "    total = number1 + number2\n",
    "    return pow (total,2)"
   ]
  },
  {
   "cell_type": "code",
   "execution_count": 41,
   "id": "f12ed87c",
   "metadata": {},
   "outputs": [],
   "source": [
    "## a function that calls our modular functions\n",
    "def mc_calc (number1, number2):\n",
    "    return sq_me(addNumbers(number1, number2))"
   ]
  },
  {
   "cell_type": "code",
   "execution_count": 43,
   "id": "7b49aa40",
   "metadata": {},
   "outputs": [
    {
     "data": {
      "text/plain": [
       "49"
      ]
     },
     "execution_count": 43,
     "metadata": {},
     "output_type": "execute_result"
    }
   ],
   "source": [
    "## call make_point() on 2 and 5\n",
    "mc_calc(2,5)"
   ]
  },
  {
   "cell_type": "code",
   "execution_count": 44,
   "id": "ff7afe09",
   "metadata": {},
   "outputs": [],
   "source": [
    "# las librerías pueden tomarse de acá: https://pypi.org/"
   ]
  },
  {
   "cell_type": "code",
   "execution_count": null,
   "id": "f95605de",
   "metadata": {},
   "outputs": [],
   "source": []
  }
 ],
 "metadata": {
  "kernelspec": {
   "display_name": "Python 3",
   "language": "python",
   "name": "python3"
  },
  "language_info": {
   "codemirror_mode": {
    "name": "ipython",
    "version": 3
   },
   "file_extension": ".py",
   "mimetype": "text/x-python",
   "name": "python",
   "nbconvert_exporter": "python",
   "pygments_lexer": "ipython3",
   "version": "3.8.8"
  }
 },
 "nbformat": 4,
 "nbformat_minor": 5
}
